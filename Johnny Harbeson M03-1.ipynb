{
 "cells": [
  {
   "cell_type": "code",
   "execution_count": 1,
   "id": "25fbc84d-03bd-4e2b-85a5-3f3d7330228d",
   "metadata": {},
   "outputs": [
    {
     "name": "stdout",
     "output_type": "stream",
     "text": [
      "[0, 0, 1, 2, 2]\n",
      "[0, 0, 1]\n"
     ]
    }
   ],
   "source": [
    "class Solution:\n",
    "    def sort012(self, arr):\n",
    "        low, mid, high = 0, 0, len(arr) - 1\n",
    "        \n",
    "        while mid <= high:\n",
    "            if arr[mid] == 0:\n",
    "                arr[low], arr[mid] = arr[mid], arr[low]\n",
    "                low += 1\n",
    "                mid += 1\n",
    "            elif arr[mid] == 1:\n",
    "                mid += 1\n",
    "            else:\n",
    "                arr[mid], arr[high] = arr[high], arr[mid]\n",
    "                high -= 1\n",
    "\n",
    "# Example usage:\n",
    "sol = Solution()\n",
    "arr1 = [0, 2, 1, 2, 0]\n",
    "sol.sort012(arr1)\n",
    "print(arr1)  \n",
    "\n",
    "arr2 = [0, 1, 0]\n",
    "sol.sort012(arr2)\n",
    "print(arr2) "
   ]
  },
  {
   "cell_type": "code",
   "execution_count": null,
   "id": "b69fdd64-8c3c-4868-ba3a-8bd271b92380",
   "metadata": {},
   "outputs": [],
   "source": []
  }
 ],
 "metadata": {
  "kernelspec": {
   "display_name": "Python 3 (ipykernel)",
   "language": "python",
   "name": "python3"
  },
  "language_info": {
   "codemirror_mode": {
    "name": "ipython",
    "version": 3
   },
   "file_extension": ".py",
   "mimetype": "text/x-python",
   "name": "python",
   "nbconvert_exporter": "python",
   "pygments_lexer": "ipython3",
   "version": "3.12.4"
  }
 },
 "nbformat": 4,
 "nbformat_minor": 5
}
