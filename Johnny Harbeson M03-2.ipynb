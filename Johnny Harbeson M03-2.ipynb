{
 "cells": [
  {
   "cell_type": "code",
   "execution_count": 1,
   "id": "8237dcad-145d-4d43-bba0-d768fa672dc2",
   "metadata": {},
   "outputs": [
    {
     "name": "stdout",
     "output_type": "stream",
     "text": [
      "3\n",
      "-1\n"
     ]
    }
   ],
   "source": [
    "class Solution:\n",
    "    def binarysearch(self, arr, k):\n",
    "        low, high = 0, len(arr) - 1\n",
    "        \n",
    "        while low <= high:\n",
    "            mid = (low + high) // 2  \n",
    "            \n",
    "            if arr[mid] == k:\n",
    "                return mid  \n",
    "            elif arr[mid] > k:\n",
    "                high = mid - 1\n",
    "            else:\n",
    "                low = mid + 1\n",
    "        \n",
    "        return -1\n",
    "\n",
    "# Example usage:\n",
    "sol = Solution()\n",
    "arr1 = [1, 2, 3, 4, 5]\n",
    "print(sol.binarysearch(arr1, 4))  # Output: 3\n",
    "\n",
    "arr2 = [11, 22, 33, 44, 55]\n",
    "print(sol.binarysearch(arr2, 445))  # Output: -1"
   ]
  },
  {
   "cell_type": "code",
   "execution_count": null,
   "id": "10ea2c6e-d88c-493c-be19-ee8843792175",
   "metadata": {},
   "outputs": [],
   "source": []
  }
 ],
 "metadata": {
  "kernelspec": {
   "display_name": "Python 3 (ipykernel)",
   "language": "python",
   "name": "python3"
  },
  "language_info": {
   "codemirror_mode": {
    "name": "ipython",
    "version": 3
   },
   "file_extension": ".py",
   "mimetype": "text/x-python",
   "name": "python",
   "nbconvert_exporter": "python",
   "pygments_lexer": "ipython3",
   "version": "3.12.4"
  }
 },
 "nbformat": 4,
 "nbformat_minor": 5
}
